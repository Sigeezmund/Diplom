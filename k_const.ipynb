{
 "cells": [
  {
   "cell_type": "code",
   "execution_count": 1,
   "metadata": {
    "pycharm": {
     "is_executing": false
    }
   },
   "outputs": [],
   "source": [
    "import matplotlib.pyplot as plt\n",
    "import matplotlib.animation as animation\n",
    "from sympy import *\n",
    "import TridiagonalMatrixHandler as tmh\n",
    "\n",
    "%matplotlib notebook"
   ]
  },
  {
   "cell_type": "markdown",
   "metadata": {},
   "source": [
    "# $$\\frac{\\partial u}{\\partial t}=D\\frac{\\partial^2 u}{\\partial x^2} + au(1-u/K) - σu;$$"
   ]
  },
  {
   "cell_type": "markdown",
   "metadata": {
    "pycharm": {
     "name": "#%% md\n"
    }
   },
   "source": [
    "$$F(u)=au^k_j\\cdot(1-u^{k+1}_j/K)- \\sigma u^{k+1}_j$$"
   ]
  },
  {
   "cell_type": "code",
   "execution_count": 2,
   "metadata": {
    "pycharm": {
     "is_executing": false
    }
   },
   "outputs": [
    {
     "name": "stdout",
     "text": [
      "D = 0.5 a = 2.0 σ = 1.0 K0 = 5.0\n"
     ],
     "output_type": "stream"
    }
   ],
   "source": [
    "print(\"D = \" + str(tmh.D) + ' a = ' + str(tmh.a) + \" σ = \" + str(tmh.deathKoeff)\n",
    "      + \" K0 = \" + str(tmh.K))"
   ]
  },
  {
   "cell_type": "code",
   "execution_count": 3,
   "outputs": [],
   "source": [
    "def kFunction(i, u1): return tmh.K\n",
    "\n",
    "u, x = tmh.createAndSolveMatrix(kFunction)"
   ],
   "metadata": {
    "collapsed": false,
    "pycharm": {
     "name": "#%%\n",
     "is_executing": false
    }
   }
  },
  {
   "cell_type": "code",
   "execution_count": null,
   "outputs": [],
   "source": [
    "fig = plt.figure(facecolor='white')\n",
    "ax = plt.axes(xlim=(-1, tmh.L), ylim=(0, 10) )\n",
    "line, = ax.plot([ ], [ ], lw=3)\n",
    "def redraw(i):\n",
    "    line.set_data(x, u[:,i])\n",
    "    string = 'Время:'+str(i)\n",
    "    plt.suptitle(string)\n",
    "anim = animation.FuncAnimation(fig,redraw,frames=tmh.KT,interval=100)\n",
    "plt.grid(True)\n",
    "plt.show()\n",
    "\n"
   ],
   "metadata": {
    "collapsed": false,
    "pycharm": {
     "name": "#%%\n"
    }
   }
  },
  {
   "cell_type": "code",
   "execution_count": null,
   "outputs": [],
   "source": [],
   "metadata": {
    "collapsed": false,
    "pycharm": {
     "name": "#%%\n"
    }
   }
  },
  {
   "cell_type": "code",
   "execution_count": null,
   "outputs": [],
   "source": [],
   "metadata": {
    "collapsed": false,
    "pycharm": {
     "name": "#%%\n"
    }
   }
  },
  {
   "cell_type": "code",
   "execution_count": null,
   "outputs": [],
   "source": [
    "fig = plt.figure(facecolor='white')\n",
    "ax = plt.axes(xlim=(-1, tmh.L), ylim=(0, 10) )\n",
    "line, = ax.plot([ ], [ ], lw=3)\n",
    "def redraw(i):\n",
    "    line.set_data(x, u[:,i])\n",
    "    string = 'Время:'+str(i)\n",
    "    plt.suptitle(string)\n",
    "anim = animation.FuncAnimation(fig,redraw,frames=tmh.KT,interval=100)\n",
    "plt.grid(True)\n",
    "plt.show()\n",
    "\n"
   ],
   "metadata": {
    "collapsed": false,
    "pycharm": {
     "name": "#%%\n"
    }
   }
  },
  {
   "cell_type": "code",
   "execution_count": null,
   "outputs": [],
   "source": [],
   "metadata": {
    "collapsed": false,
    "pycharm": {
     "name": "#%%\n"
    }
   }
  },
  {
   "cell_type": "code",
   "execution_count": null,
   "outputs": [],
   "source": [],
   "metadata": {
    "collapsed": false,
    "pycharm": {
     "name": "#%%\n"
    }
   }
  },
  {
   "cell_type": "code",
   "execution_count": null,
   "outputs": [],
   "source": [
    "fig = plt.figure(facecolor='white')\n",
    "ax = plt.axes(xlim=(-1, tmh.L), ylim=(0, 10) )\n",
    "line, = ax.plot([ ], [ ], lw=3)\n",
    "def redraw(i):\n",
    "    line.set_data(x, u[:,i])\n",
    "    string = 'Время:'+str(i)\n",
    "    plt.suptitle(string)\n",
    "anim = animation.FuncAnimation(fig,redraw,frames=tmh.KT,interval=100)\n",
    "plt.grid(True)\n",
    "plt.show()\n",
    "\n"
   ],
   "metadata": {
    "collapsed": false,
    "pycharm": {
     "name": "#%%\n"
    }
   }
  },
  {
   "cell_type": "code",
   "execution_count": null,
   "outputs": [],
   "source": [],
   "metadata": {
    "collapsed": false,
    "pycharm": {
     "name": "#%%\n"
    }
   }
  },
  {
   "cell_type": "code",
   "execution_count": null,
   "outputs": [],
   "source": [],
   "metadata": {
    "collapsed": false,
    "pycharm": {
     "name": "#%%\n"
    }
   }
  },
  {
   "cell_type": "code",
   "execution_count": 4,
   "outputs": [
    {
     "data": {
      "text/plain": "<Figure size 432x288 with 1 Axes>",
      "image/png": "[encoded data removed]"
     },
     "metadata": {},
     "output_type": "display_data"
    }
   ],
   "source": [
    "fig = plt.figure(facecolor='white')\n",
    "ax = plt.axes(xlim=(-1, tmh.L), ylim=(0, 10) )\n",
    "line, = ax.plot([ ], [ ], lw=3)\n",
    "def redraw(i):\n",
    "    line.set_data(x, u[:,i])\n",
    "    string = 'Время:'+str(i)\n",
    "    plt.suptitle(string)\n",
    "anim = animation.FuncAnimation(fig,redraw,frames=tmh.KT,interval=100)\n",
    "plt.grid(True)\n",
    "plt.show()\n",
    "\n"
   ],
   "metadata": {
    "collapsed": false,
    "pycharm": {
     "name": "#%%\n",
     "is_executing": false
    }
   }
  },
  {
   "cell_type": "code",
   "execution_count": null,
   "outputs": [],
   "source": [],
   "metadata": {
    "collapsed": false,
    "pycharm": {
     "name": "#%%\n"
    }
   }
  },
  {
   "cell_type": "code",
   "execution_count": 2,
   "metadata": {
    "pycharm": {
     "is_executing": false
    }
   },
   "outputs": [],
   "source": []
  },
  {
   "cell_type": "code",
   "execution_count": 3,
   "metadata": {
    "pycharm": {
     "is_executing": false,
     "name": "#%%\n"
    }
   },
   "outputs": [
    {
     "name": "stdout",
     "output_type": "stream",
     "text": [
      "D = 0.5 a = 2.0 smert = 1.0 K0 = 5.0\n"
     ]
    },
    {
     "data": {
      "image/png": "[encoded data removed]",
      "text/plain": [
       "<Figure size 432x288 with 1 Axes>"
      ]
     },
     "metadata": {},
     "output_type": "display_data"
    }
   ],
   "source": [
    "fig = plt.figure(facecolor='white')\n",
    "ax = plt.axes(xlim=(-1, tmh.L), ylim=(0, 10) )\n",
    "line, = ax.plot([ ], [ ], lw=3)\n",
    "def redraw(i):\n",
    "    line.set_data(x, u[:,i])\n",
    "    string = 'Время:'+str(i)\n",
    "    plt.suptitle(string)\n",
    "anim = animation.FuncAnimation(fig,redraw,frames=tmh.KT,interval=100)\n",
    "plt.grid(True)\n",
    "plt.show()\n",
    "\n"
   ]
  },
  {
   "cell_type": "code",
   "execution_count": null,
   "metadata": {},
   "outputs": [],
   "source": []
  }
 ],
 "metadata": {
  "kernelspec": {
   "display_name": "Python 3",
   "language": "python",
   "name": "python3"
  },
  "language_info": {
   "codemirror_mode": {
    "name": "ipython",
    "version": 3
   },
   "file_extension": ".py",
   "mimetype": "text/x-python",
   "name": "python",
   "nbconvert_exporter": "python",
   "pygments_lexer": "ipython3",
   "version": "3.7.0"
  },
  "pycharm": {
   "stem_cell": {
    "cell_type": "raw",
    "source": [],
    "metadata": {
     "collapsed": false
    }
   }
  }
 },
 "nbformat": 4,
 "nbformat_minor": 2
}