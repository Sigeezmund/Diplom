{
 "cells": [
  {
   "cell_type": "code",
   "execution_count": 12,
   "metadata": {
    "pycharm": {
     "is_executing": false
    }
   },
   "outputs": [],
   "source": [
    "import matplotlib.pyplot as plt\n",
    "import matplotlib.animation as animation\n",
    "from sympy import *\n",
    "import TridiagonalMatrixHandler as tmh\n",
    "\n",
    "%matplotlib notebook"
   ]
  },
  {
   "cell_type": "markdown",
   "metadata": {},
   "source": [
    "# $$\\frac{\\partial u}{\\partial t}=D\\frac{\\partial^2 u}{\\partial x^2} + au(1-u/K) - σu;$$"
   ]
  },
  {
   "cell_type": "markdown",
   "metadata": {
    "pycharm": {
     "name": "#%% md\n"
    }
   },
   "source": [
    "$$F(u)=au^k_j\\cdot(1-u^{k+1}_j/K)- \\sigma u^{k+1}_j$$"
   ]
  },
  {
   "cell_type": "code",
   "execution_count": 6,
   "metadata": {
    "pycharm": {
     "is_executing": false
    }
   },
   "outputs": [
    {
     "name": "stdout",
     "text": [
      "D = 0.5 a = 2.0 σ = 1.0 K0 = 5.0\n"
     ],
     "output_type": "stream"
    }
   ],
   "source": [
    "print(\"D = \" + str(tmh.D) + ' a = ' + str(tmh.a) + \" σ = \" + str(tmh.deathKoeff)\n",
    "      + \" K0 = \" + str(tmh.K))"
   ]
  },
  {
   "cell_type": "code",
   "execution_count": 7,
   "outputs": [],
   "source": [
    "def kFunction(i, u1): return tmh.K\n",
    "\n",
    "u, x = tmh.createAndSolveMatrix(kFunction)"
   ],
   "metadata": {
    "collapsed": false,
    "pycharm": {
     "name": "#%%\n",
     "is_executing": false
    }
   }
  },
  {
   "cell_type": "code",
   "execution_count": null,
   "outputs": [],
   "source": [
    "fig = plt.figure(facecolor='white')\n",
    "ax = plt.axes(xlim=(-1, tmh.L), ylim=(0, 10) )\n",
    "line, = ax.plot([ ], [ ], lw=3)\n",
    "def redraw(i):\n",
    "    line.set_data(x, u[:,i])\n",
    "    string = 'Время:'+str(i)\n",
    "    plt.suptitle(string)\n",
    "anim = animation.FuncAnimation(fig,redraw,frames=tmh.KT,interval=100)\n",
    "plt.grid(True)\n",
    "plt.show()"
   ],
   "metadata": {
    "collapsed": false,
    "pycharm": {
     "name": "#%%\n"
    }
   }
  }
 ],
 "metadata": {
  "kernelspec": {
   "display_name": "Python 3",
   "language": "python",
   "name": "python3"
  },
  "language_info": {
   "codemirror_mode": {
    "name": "ipython",
    "version": 3
   },
   "file_extension": ".py",
   "mimetype": "text/x-python",
   "name": "python",
   "nbconvert_exporter": "python",
   "pygments_lexer": "ipython3",
   "version": "3.7.0"
  },
  "pycharm": {
   "stem_cell": {
    "cell_type": "raw",
    "source": [],
    "metadata": {
     "collapsed": false
    }
   }
  }
 },
 "nbformat": 4,
 "nbformat_minor": 2
}