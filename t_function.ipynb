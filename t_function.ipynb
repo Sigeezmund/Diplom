{
 "cells": [
  {
   "cell_type": "code",
   "execution_count": 1,
   "metadata": {
    "pycharm": {
     "is_executing": false
    }
   },
   "outputs": [],
   "source": [
    "import matplotlib.pyplot as plt\n",
    "import matplotlib.animation as animation\n",
    "import TridiagonalMatrixHandler as tmh\n",
    "from numba import njit\n",
    "\n",
    "%matplotlib notebook"
   ]
  },
  {
   "cell_type": "markdown",
   "metadata": {},
   "source": [
    "# $$\\frac{\\partial u}{\\partial t}=D\\frac{\\partial^2 u}{\\partial x^2} + au(1-\\frac{u}{C(t)}) - σu;$$\n",
    "# $u(x,0)=e^{-t^2}; \\qquad x∈(1,L)$\n",
    "# $u(0,0)=2;$\n",
    "# $\\frac{\\partial u}{\\partial x}|_{x=0,L} = 0;$"
   ]
  },
  {
   "cell_type": "markdown",
   "metadata": {},
   "source": [
    "$$F(u)=au^k_j\\cdot(1-\\frac{u^{k}_j}{C(t)})- \\sigma u^{k}_j$$\n",
    "$$где\\qquad C(t) - некоторая\\qquad  функция\\qquad  от\\qquad  времени$$"
   ]
  },
  {
   "cell_type": "code",
   "execution_count": 2,
   "metadata": {
    "pycharm": {
     "is_executing": false,
     "name": "#%%\n"
    }
   },
   "outputs": [
    {
     "name": "stdout",
     "output_type": "stream",
     "text": [
      "Коэффициент миграции (D) = 0.5\tРождения новых людей (a) = 2.0\tСмертность населения (σ) = 1.0\n",
      "\n",
      "Количество точек по ОХ (N) = 500\t\tКоличество точек по времени (KT) = 1000\n",
      "Конец отрезка по OX (L) = 1000\t\tКонечный момент (T) = 1000\n",
      "\n",
      "число Куранта = 0.12462512512512516\tСистема устойчивая\n",
      "\n",
      "C(t) = 6000/(t+1)\n"
     ]
    }
   ],
   "source": [
    "tmh.showAllConstant()\n",
    "\n",
    "@njit\n",
    "def carryingCapacityFunction(ukj, k, u_0=0): \n",
    "    denominator = 6000/(k+1)\n",
    "    return ukj/denominator\n",
    "\n",
    "u = tmh.createAndSolveUByYavnayMethods(carryingCapacityFunction)\n",
    "print(\"\\nC(t) = 6000/(t+1)\")\n",
    "#print(u.max())"
   ]
  },
  {
   "cell_type": "code",
   "execution_count": 3,
   "metadata": {
    "pycharm": {
     "is_executing": false,
     "name": "#%%\n"
    }
   },
   "outputs": [
    {
     "data": {
      "image/png": "[encoded data removed]",
      "text/plain": [
       "<Figure size 432x288 with 1 Axes>"
      ]
     },
     "metadata": {},
     "output_type": "display_data"
    }
   ],
   "source": [
    "x=tmh.x\n",
    "\n",
    "fig = plt.figure(facecolor='white')\n",
    "ax = plt.axes(xlim=(0, tmh.L), ylim=(0, u.max() + 1) )\n",
    "line, = ax.plot([ ], [ ], lw=3)\n",
    "def redraw(i):\n",
    "    line.set_data(x, u[:,i])\n",
    "    string = 'Время:'+str(i)\n",
    "    plt.suptitle(string)\n",
    "anim = animation.FuncAnimation(fig,redraw,frames=tmh.KT,interval=100)\n",
    "\n",
    "\n",
    "# plt.plot(x, u[:,0], label='t=0')\n",
    "# plt.plot(x, u[:,10], label='t=10')\n",
    "# plt.plot(x, u[:,100], label='t=100')\n",
    "# plt.plot(x, u[:,200], label='t=200')\n",
    "# plt.plot(x, u[:,500], label='t=500')\n",
    "# plt.plot(x, u[:,900], label='t=900')\n",
    "# plt.legend(loc='best')\n",
    "plt.grid(True)\n",
    "plt.show()"
   ]
  },
  {
   "cell_type": "code",
   "execution_count": 7,
   "metadata": {
    "pycharm": {
     "is_executing": false
    }
   },
   "outputs": [
    {
     "name": "stdout",
     "output_type": "stream",
     "text": [
      "Speed: 2.0020040080160277\n"
     ]
    }
   ],
   "source": [
    "diff = 0.5\n",
    "value = 0\n",
    "for i in range(1, tmh.NX - 1):\n",
    "    if abs(u[int(tmh.NX/3), int(tmh.KT/3)] - u[i, int(tmh.KT/3) + 1]) < diff and x[int(tmh.NX/3)] != x[i]:\n",
    "        diff = abs(u[int(tmh.NX/3), int(tmh.KT/3)] - u[i, int(tmh.KT/3) + 1])\n",
    "        value = abs(x[int(tmh.NX/3)] - x[i])\n",
    "print('Speed:', value/tmh.tau)\n"
   ]
  },
  {
   "cell_type": "code",
   "execution_count": null,
   "metadata": {},
   "outputs": [],
   "source": []
  }
 ],
 "metadata": {
  "kernelspec": {
   "display_name": "Python 3",
   "language": "python",
   "name": "python3"
  },
  "language_info": {
   "codemirror_mode": {
    "name": "ipython",
    "version": 3
   },
   "file_extension": ".py",
   "mimetype": "text/x-python",
   "name": "python",
   "nbconvert_exporter": "python",
   "pygments_lexer": "ipython3",
   "version": "3.7.0"
  },
  "pycharm": {
   "stem_cell": {
    "cell_type": "raw",
    "metadata": {
     "collapsed": false
    },
    "source": []
   }
  }
 },
 "nbformat": 4,
 "nbformat_minor": 1
}
